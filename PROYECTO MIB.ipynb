{
 "cells": [
  {
   "cell_type": "markdown",
   "id": "571ce1da",
   "metadata": {},
   "source": [
    "<a href=\"https://colab.research.google.com/github/jhermosillo/Proyecto-IA/blob/main/PROYECTO%20MIB.ipynb\" target=\"_parent\"><img src=\"https://colab.research.google.com/assets/colab-badge.svg\" alt=\"Open In Colab\"/></a>"
   ]
  },
  {
   "cell_type": "markdown",
   "id": "9ef6cd2f-f0cc-4387-8f31-6c6dd8861055",
   "metadata": {
    "tags": []
   },
   "source": [
    "<h1 style=\"font-size:50px;\" align=\"center\">Inferencia Bayesiana usando el Motor de Inferencia MIB</h1>"
   ]
  },
  {
   "cell_type": "markdown",
   "id": "38b6f84d-9074-45d0-9312-04373d05222e",
   "metadata": {},
   "source": [
    "<h1 style=\"font-size:30px;\" align=\"center\">Quien escribió este cuento</h1>"
   ]
  },
  {
   "cell_type": "code",
   "execution_count": 66,
   "id": "823f3853-36f6-4a97-997d-3f81eea64b0c",
   "metadata": {},
   "outputs": [
    {
     "name": "stderr",
     "output_type": "stream",
     "text": [
      "[nltk_data] Downloading package punkt to\n",
      "[nltk_data]     C:\\Users\\user\\AppData\\Roaming\\nltk_data...\n",
      "[nltk_data]   Package punkt is already up-to-date!\n"
     ]
    }
   ],
   "source": [
    "import numpy as np\n",
    "import numpy.ma as ma\n",
    "import pandas as pd\n",
    "import glob\n",
    "import nltk\n",
    "\n",
    "nltk.download('punkt')\n",
    "from nltk.tokenize import word_tokenize\n",
    "\n",
    "from collections import Counter  #regresa un diccionario con conteos\n",
    "from collections import OrderedDict #diccionarios ordenados\n",
    "from itertools import product   #calcula producto cartesiano\n",
    "\n",
    "import mib as mb\n",
    "import tpproc as tp"
   ]
  },
  {
   "cell_type": "code",
   "execution_count": null,
   "id": "153e0f9b",
   "metadata": {},
   "outputs": [],
   "source": [
    "# Cargar un archivo de excel a colab desde github\n",
    "!apt-get install subversion\n",
    "!svn checkout \"https://github.com/jhermosillo//Proyecto-IA/trunk/Train/\"\n",
    "!svn checkout \"https://github.com/jhermosillo//Proyecto-IA/trunk/Test/\""
   ]
  },
  {
   "cell_type": "markdown",
   "id": "3ed8b06d-cd72-4bea-bc8b-7aa3f70c47e6",
   "metadata": {},
   "source": [
    "# Proyecto"
   ]
  },
  {
   "cell_type": "code",
   "execution_count": 2,
   "id": "81aba236-59d5-48d7-9679-83d1fcd1c1d0",
   "metadata": {},
   "outputs": [
    {
     "name": "stdout",
     "output_type": "stream",
     "text": [
      "leyendo...\n",
      "tamaño del contenido de archivos cargados:             1 KB\n"
     ]
    },
    {
     "name": "stderr",
     "output_type": "stream",
     "text": [
      "C:\\Users\\user\\Mi unidad\\Clases\\IA\\BAYESIAN PROGRAMMING\\Python_code\\Proyecto-IA - GitHub\\Proyecto-IA\\tpproc.py:84: FutureWarning: The default value of regex will change from True to False in a future version. In addition, single character regular expressions will *not* be treated as literal strings when regex=True.\n",
      "  .str.replace('(','')\\\n",
      "C:\\Users\\user\\Mi unidad\\Clases\\IA\\BAYESIAN PROGRAMMING\\Python_code\\Proyecto-IA - GitHub\\Proyecto-IA\\tpproc.py:85: FutureWarning: The default value of regex will change from True to False in a future version. In addition, single character regular expressions will *not* be treated as literal strings when regex=True.\n",
      "  .str.replace(')','')\\\n"
     ]
    },
    {
     "data": {
      "text/html": [
       "<div>\n",
       "<style scoped>\n",
       "    .dataframe tbody tr th:only-of-type {\n",
       "        vertical-align: middle;\n",
       "    }\n",
       "\n",
       "    .dataframe tbody tr th {\n",
       "        vertical-align: top;\n",
       "    }\n",
       "\n",
       "    .dataframe thead th {\n",
       "        text-align: right;\n",
       "    }\n",
       "</style>\n",
       "<table border=\"1\" class=\"dataframe\">\n",
       "  <thead>\n",
       "    <tr style=\"text-align: right;\">\n",
       "      <th></th>\n",
       "      <th>titulo</th>\n",
       "      <th>tipo</th>\n",
       "      <th>autor</th>\n",
       "      <th>texto</th>\n",
       "    </tr>\n",
       "  </thead>\n",
       "  <tbody>\n",
       "    <tr>\n",
       "      <th>0</th>\n",
       "      <td>catástrofes</td>\n",
       "      <td>minicuento</td>\n",
       "      <td>alfonso reyes</td>\n",
       "      <td>pasa hablado cierta catástrofe cósmica amenaza...</td>\n",
       "    </tr>\n",
       "    <tr>\n",
       "      <th>1</th>\n",
       "      <td>del perfecto gobernante</td>\n",
       "      <td>minicuento</td>\n",
       "      <td>alfonso reyes</td>\n",
       "      <td>entiende perfecto gobernante perfecto lleno pe...</td>\n",
       "    </tr>\n",
       "    <tr>\n",
       "      <th>2</th>\n",
       "      <td>ley profunda</td>\n",
       "      <td>minicuento</td>\n",
       "      <td>alfonso reyes</td>\n",
       "      <td>trata libertarnos simplemente enseñarnos descu...</td>\n",
       "    </tr>\n",
       "    <tr>\n",
       "      <th>3</th>\n",
       "      <td>los alivios</td>\n",
       "      <td>minicuento</td>\n",
       "      <td>alfonso reyes</td>\n",
       "      <td>nombres usan castellano restroom impropios bañ...</td>\n",
       "    </tr>\n",
       "    <tr>\n",
       "      <th>4</th>\n",
       "      <td>el buen rey león</td>\n",
       "      <td>fábula</td>\n",
       "      <td>esopo</td>\n",
       "      <td>león enojoso cruel violento sino tratable just...</td>\n",
       "    </tr>\n",
       "  </tbody>\n",
       "</table>\n",
       "</div>"
      ],
      "text/plain": [
       "                    titulo        tipo          autor  \\\n",
       "0              catástrofes  minicuento  alfonso reyes   \n",
       "1  del perfecto gobernante  minicuento  alfonso reyes   \n",
       "2             ley profunda  minicuento  alfonso reyes   \n",
       "3              los alivios  minicuento  alfonso reyes   \n",
       "4         el buen rey león      fábula          esopo   \n",
       "\n",
       "                                               texto  \n",
       "0  pasa hablado cierta catástrofe cósmica amenaza...  \n",
       "1  entiende perfecto gobernante perfecto lleno pe...  \n",
       "2  trata libertarnos simplemente enseñarnos descu...  \n",
       "3  nombres usan castellano restroom impropios bañ...  \n",
       "4  león enojoso cruel violento sino tratable just...  "
      ]
     },
     "execution_count": 2,
     "metadata": {},
     "output_type": "execute_result"
    }
   ],
   "source": [
    "archivos = glob.glob('./Train/*/*')\n",
    "archivos,nombres = tp.carga_cuentos(archivos)\n",
    "df_train = tp.lee_cuentos(archivos)\n",
    "df_train.head()"
   ]
  },
  {
   "cell_type": "code",
   "execution_count": 3,
   "id": "7e70f408-030d-4a6e-8744-cc4743fcf255",
   "metadata": {},
   "outputs": [
    {
     "name": "stdout",
     "output_type": "stream",
     "text": [
      "4763\n"
     ]
    }
   ],
   "source": [
    "with open(\"./voc_pry.txt\",encoding='utf-8') as f:\n",
    "    vocabulario = f.read()\n",
    "vocabulario=vocabulario.split()\n",
    "print(len(vocabulario))"
   ]
  },
  {
   "cell_type": "code",
   "execution_count": 4,
   "id": "049c4c72-f1c6-46da-9f69-602f475a8b48",
   "metadata": {},
   "outputs": [
    {
     "name": "stdout",
     "output_type": "stream",
     "text": [
      "['vencedor', 'metió', 'apelar', 'gratitud', 'empieza', 'cirujano', 'pellizcó', 'lienzo', 'chorizo', 'mismos']\n"
     ]
    }
   ],
   "source": [
    "print(vocabulario[:10])"
   ]
  },
  {
   "cell_type": "code",
   "execution_count": 5,
   "id": "6d75a0cd-905e-4800-b04b-8e0a793823ba",
   "metadata": {},
   "outputs": [
    {
     "name": "stdout",
     "output_type": "stream",
     "text": [
      "leyendo...\n",
      "tamaño del contenido de archivos cargados:             0 KB\n"
     ]
    },
    {
     "name": "stderr",
     "output_type": "stream",
     "text": [
      "C:\\Users\\user\\Mi unidad\\Clases\\IA\\BAYESIAN PROGRAMMING\\Python_code\\Proyecto-IA - GitHub\\Proyecto-IA\\tpproc.py:84: FutureWarning: The default value of regex will change from True to False in a future version. In addition, single character regular expressions will *not* be treated as literal strings when regex=True.\n",
      "  .str.replace('(','')\\\n",
      "C:\\Users\\user\\Mi unidad\\Clases\\IA\\BAYESIAN PROGRAMMING\\Python_code\\Proyecto-IA - GitHub\\Proyecto-IA\\tpproc.py:85: FutureWarning: The default value of regex will change from True to False in a future version. In addition, single character regular expressions will *not* be treated as literal strings when regex=True.\n",
      "  .str.replace(')','')\\\n"
     ]
    },
    {
     "data": {
      "text/html": [
       "<div>\n",
       "<style scoped>\n",
       "    .dataframe tbody tr th:only-of-type {\n",
       "        vertical-align: middle;\n",
       "    }\n",
       "\n",
       "    .dataframe tbody tr th {\n",
       "        vertical-align: top;\n",
       "    }\n",
       "\n",
       "    .dataframe thead th {\n",
       "        text-align: right;\n",
       "    }\n",
       "</style>\n",
       "<table border=\"1\" class=\"dataframe\">\n",
       "  <thead>\n",
       "    <tr style=\"text-align: right;\">\n",
       "      <th></th>\n",
       "      <th>titulo</th>\n",
       "      <th>texto</th>\n",
       "    </tr>\n",
       "  </thead>\n",
       "  <tbody>\n",
       "    <tr>\n",
       "      <th>0</th>\n",
       "      <td>divina fragilidad</td>\n",
       "      <td>dios creó universo sentía solo eternidad empez...</td>\n",
       "    </tr>\n",
       "    <tr>\n",
       "      <th>1</th>\n",
       "      <td>dos seres iguales</td>\n",
       "      <td>cierto día profeta sharía encontró niña jardín...</td>\n",
       "    </tr>\n",
       "    <tr>\n",
       "      <th>2</th>\n",
       "      <td>el caballo y el lobo</td>\n",
       "      <td>estación blandos céfiros hacen verdear campos ...</td>\n",
       "    </tr>\n",
       "    <tr>\n",
       "      <th>3</th>\n",
       "      <td>el cetro</td>\n",
       "      <td>dijo rey esposa señora verdaderamente reina de...</td>\n",
       "    </tr>\n",
       "    <tr>\n",
       "      <th>4</th>\n",
       "      <td>el impostor</td>\n",
       "      <td>cansada esperar hombre llegó puntual sonreírme...</td>\n",
       "    </tr>\n",
       "  </tbody>\n",
       "</table>\n",
       "</div>"
      ],
      "text/plain": [
       "                 titulo                                              texto\n",
       "0     divina fragilidad  dios creó universo sentía solo eternidad empez...\n",
       "1     dos seres iguales  cierto día profeta sharía encontró niña jardín...\n",
       "2  el caballo y el lobo  estación blandos céfiros hacen verdear campos ...\n",
       "3              el cetro  dijo rey esposa señora verdaderamente reina de...\n",
       "4           el impostor  cansada esperar hombre llegó puntual sonreírme..."
      ]
     },
     "execution_count": 5,
     "metadata": {},
     "output_type": "execute_result"
    }
   ],
   "source": [
    "archivos = glob.glob('./Test/*')\n",
    "archivos,nombres = tp.carga_cuentos(archivos)\n",
    "df_test = tp.lee_cuentos(archivos,test=True)\n",
    "df_test.head()"
   ]
  },
  {
   "cell_type": "markdown",
   "id": "21c38186-2071-4c1c-8d67-c6740723ad46",
   "metadata": {},
   "source": [
    "## Data Frames de trabajo"
   ]
  },
  {
   "cell_type": "code",
   "execution_count": 6,
   "id": "d09a1a6f-c493-4902-b321-dc3637e7e1a5",
   "metadata": {},
   "outputs": [],
   "source": [
    "df_train_T = df_train.copy()\n",
    "df_test_T = df_test.copy()"
   ]
  },
  {
   "cell_type": "code",
   "execution_count": 7,
   "id": "7cab1b3d-8592-46c2-be42-4a20559729ad",
   "metadata": {},
   "outputs": [
    {
     "data": {
      "text/html": [
       "<div>\n",
       "<style scoped>\n",
       "    .dataframe tbody tr th:only-of-type {\n",
       "        vertical-align: middle;\n",
       "    }\n",
       "\n",
       "    .dataframe tbody tr th {\n",
       "        vertical-align: top;\n",
       "    }\n",
       "\n",
       "    .dataframe thead th {\n",
       "        text-align: right;\n",
       "    }\n",
       "</style>\n",
       "<table border=\"1\" class=\"dataframe\">\n",
       "  <thead>\n",
       "    <tr style=\"text-align: right;\">\n",
       "      <th></th>\n",
       "      <th>titulo</th>\n",
       "      <th>texto</th>\n",
       "      <th>tokens</th>\n",
       "    </tr>\n",
       "  </thead>\n",
       "  <tbody>\n",
       "    <tr>\n",
       "      <th>0</th>\n",
       "      <td>divina fragilidad</td>\n",
       "      <td>dios creó universo sentía solo eternidad empez...</td>\n",
       "      <td>[dios, creó, universo, sentía, solo, eternidad...</td>\n",
       "    </tr>\n",
       "    <tr>\n",
       "      <th>1</th>\n",
       "      <td>dos seres iguales</td>\n",
       "      <td>cierto día profeta sharía encontró niña jardín...</td>\n",
       "      <td>[cierto, día, profeta, sharía, encontró, niña,...</td>\n",
       "    </tr>\n",
       "    <tr>\n",
       "      <th>2</th>\n",
       "      <td>el caballo y el lobo</td>\n",
       "      <td>estación blandos céfiros hacen verdear campos ...</td>\n",
       "      <td>[estación, blandos, céfiros, hacen, verdear, c...</td>\n",
       "    </tr>\n",
       "    <tr>\n",
       "      <th>3</th>\n",
       "      <td>el cetro</td>\n",
       "      <td>dijo rey esposa señora verdaderamente reina de...</td>\n",
       "      <td>[dijo, rey, esposa, señora, verdaderamente, re...</td>\n",
       "    </tr>\n",
       "    <tr>\n",
       "      <th>4</th>\n",
       "      <td>el impostor</td>\n",
       "      <td>cansada esperar hombre llegó puntual sonreírme...</td>\n",
       "      <td>[cansada, esperar, hombre, llegó, puntual, son...</td>\n",
       "    </tr>\n",
       "  </tbody>\n",
       "</table>\n",
       "</div>"
      ],
      "text/plain": [
       "                 titulo                                              texto  \\\n",
       "0     divina fragilidad  dios creó universo sentía solo eternidad empez...   \n",
       "1     dos seres iguales  cierto día profeta sharía encontró niña jardín...   \n",
       "2  el caballo y el lobo  estación blandos céfiros hacen verdear campos ...   \n",
       "3              el cetro  dijo rey esposa señora verdaderamente reina de...   \n",
       "4           el impostor  cansada esperar hombre llegó puntual sonreírme...   \n",
       "\n",
       "                                              tokens  \n",
       "0  [dios, creó, universo, sentía, solo, eternidad...  \n",
       "1  [cierto, día, profeta, sharía, encontró, niña,...  \n",
       "2  [estación, blandos, céfiros, hacen, verdear, c...  \n",
       "3  [dijo, rey, esposa, señora, verdaderamente, re...  \n",
       "4  [cansada, esperar, hombre, llegó, puntual, son...  "
      ]
     },
     "execution_count": 7,
     "metadata": {},
     "output_type": "execute_result"
    }
   ],
   "source": [
    "df_test_T['tokens'] = df_test_T.apply(lambda row: nltk.word_tokenize(row['texto']), axis=1)\n",
    "df_test_T.head()"
   ]
  },
  {
   "cell_type": "code",
   "execution_count": 8,
   "id": "1b748386-2e7e-468e-bcde-7d6c1edd0e10",
   "metadata": {},
   "outputs": [
    {
     "name": "stdout",
     "output_type": "stream",
     "text": [
      "['dios', 'creó']\n",
      "['cierto', 'día']\n",
      "['estación', 'blandos']\n",
      "['dijo', 'rey']\n",
      "['cansada', 'esperar']\n",
      "['yendo', 'león']\n",
      "['ranas', 'decidieron']\n",
      "['cierto', 'día']\n",
      "['noche', 'cerrada']\n",
      "['ibas', 'contar']\n",
      "['veces', 'vuelven']\n",
      "['muerte', 'cansada']\n",
      "['camión', 'detuvo']\n",
      "['cierto', 'día']\n",
      "['tres', 'punto']\n",
      "['narciso', 'hoy']\n",
      "['cierto', 'día']\n",
      "['pesar', 'torpor']\n",
      "['mary', 'dos']\n"
     ]
    }
   ],
   "source": [
    "C=df_test_T.tokens.values\n",
    "for c in C:\n",
    "    print(c[:2])"
   ]
  },
  {
   "cell_type": "markdown",
   "id": "152bc9e3-15e6-467f-b9f9-5a0bdf5356fb",
   "metadata": {},
   "source": [
    "## Preguntas"
   ]
  },
  {
   "cell_type": "markdown",
   "id": "5fdf06ef-90d7-44b0-ae3f-8951465a96b2",
   "metadata": {},
   "source": [
    "1. ¿Quién escribió \"El caballo y el Lobo\"?\n",
    "2. \"La escopeta\" ¿es una fábula?\n",
    "3. ¿Qué probabilidad hay de que \"La muerte\" haya sido escrita por José Saramago\n",
    "4. ¿Pudo \"La marcha del caracol\" haber sido escrita por García Márquez y Fuentes en co-autoría?\n",
    "5. Dado que \"El águila de ala cortada y la zorra\" es una fábula, ¿qué probabilidad hay de que haya sido escrita por Jalil Gibrán?\n",
    "6. ¿Qué proporción hay de minicuentos?\n",
    "7. ¿Qué cuentos son de Carlos Onetti?\n",
    "8. ¿Quién dijo: \"Desde que abrí los ojos me di cuenta que mi sitio no estaba aquí, donde yo estoy, sino en donde no estoy ni he estado nunca. En alguna parte hay un lugar vacío y ese vacío se llenará de mí y yo me asentaré en ese hueco que insensiblemente rebosará de mí, pleno de mí hasta volverse fuente o surtidor. Y mi vacío, el vacío de mí que soy ahora, se llenará de sí, pleno de sí, pleno de ser hasta los bordes.\"?\n",
    "9. ¿Quién es el autor con más cuentos?\n",
    "10. ¿Qué probablidad hay de quien haya escrito \"Retiniblastoma\" haya también escrito \"El sol y las ranas\"?"
   ]
  },
  {
   "cell_type": "markdown",
   "id": "47e893d9-8fff-4dea-b32e-3718e9af4be9",
   "metadata": {},
   "source": [
    "# Avance de una solución posible"
   ]
  },
  {
   "cell_type": "markdown",
   "id": "5b522af4-2d5f-4dcf-b35d-92adbe450113",
   "metadata": {},
   "source": [
    "## Datos"
   ]
  },
  {
   "cell_type": "code",
   "execution_count": 9,
   "id": "3cb4595f-6ac8-4630-9f96-f0fc7c4da4eb",
   "metadata": {},
   "outputs": [
    {
     "data": {
      "text/html": [
       "<div>\n",
       "<style scoped>\n",
       "    .dataframe tbody tr th:only-of-type {\n",
       "        vertical-align: middle;\n",
       "    }\n",
       "\n",
       "    .dataframe tbody tr th {\n",
       "        vertical-align: top;\n",
       "    }\n",
       "\n",
       "    .dataframe thead th {\n",
       "        text-align: right;\n",
       "    }\n",
       "</style>\n",
       "<table border=\"1\" class=\"dataframe\">\n",
       "  <thead>\n",
       "    <tr style=\"text-align: right;\">\n",
       "      <th></th>\n",
       "      <th>titulo</th>\n",
       "      <th>tipo</th>\n",
       "      <th>autor</th>\n",
       "      <th>texto</th>\n",
       "      <th>Total</th>\n",
       "    </tr>\n",
       "  </thead>\n",
       "  <tbody>\n",
       "    <tr>\n",
       "      <th>0</th>\n",
       "      <td>catástrofes</td>\n",
       "      <td>minicuento</td>\n",
       "      <td>alfonso reyes</td>\n",
       "      <td>pasa hablado cierta catástrofe cósmica amenaza...</td>\n",
       "      <td>68</td>\n",
       "    </tr>\n",
       "    <tr>\n",
       "      <th>1</th>\n",
       "      <td>del perfecto gobernante</td>\n",
       "      <td>minicuento</td>\n",
       "      <td>alfonso reyes</td>\n",
       "      <td>entiende perfecto gobernante perfecto lleno pe...</td>\n",
       "      <td>120</td>\n",
       "    </tr>\n",
       "    <tr>\n",
       "      <th>2</th>\n",
       "      <td>ley profunda</td>\n",
       "      <td>minicuento</td>\n",
       "      <td>alfonso reyes</td>\n",
       "      <td>trata libertarnos simplemente enseñarnos descu...</td>\n",
       "      <td>35</td>\n",
       "    </tr>\n",
       "    <tr>\n",
       "      <th>3</th>\n",
       "      <td>los alivios</td>\n",
       "      <td>minicuento</td>\n",
       "      <td>alfonso reyes</td>\n",
       "      <td>nombres usan castellano restroom impropios bañ...</td>\n",
       "      <td>18</td>\n",
       "    </tr>\n",
       "    <tr>\n",
       "      <th>4</th>\n",
       "      <td>el buen rey león</td>\n",
       "      <td>fábula</td>\n",
       "      <td>esopo</td>\n",
       "      <td>león enojoso cruel violento sino tratable just...</td>\n",
       "      <td>58</td>\n",
       "    </tr>\n",
       "  </tbody>\n",
       "</table>\n",
       "</div>"
      ],
      "text/plain": [
       "                    titulo        tipo          autor  \\\n",
       "0              catástrofes  minicuento  alfonso reyes   \n",
       "1  del perfecto gobernante  minicuento  alfonso reyes   \n",
       "2             ley profunda  minicuento  alfonso reyes   \n",
       "3              los alivios  minicuento  alfonso reyes   \n",
       "4         el buen rey león      fábula          esopo   \n",
       "\n",
       "                                               texto  Total  \n",
       "0  pasa hablado cierta catástrofe cósmica amenaza...     68  \n",
       "1  entiende perfecto gobernante perfecto lleno pe...    120  \n",
       "2  trata libertarnos simplemente enseñarnos descu...     35  \n",
       "3  nombres usan castellano restroom impropios bañ...     18  \n",
       "4  león enojoso cruel violento sino tratable just...     58  "
      ]
     },
     "execution_count": 9,
     "metadata": {},
     "output_type": "execute_result"
    }
   ],
   "source": [
    "df_train_T['Total']=df_train_T.texto.str.split().apply(len)\n",
    "\n",
    "df_train_T.head()"
   ]
  },
  {
   "cell_type": "markdown",
   "id": "8fad02c1-7015-416a-8563-c7542bedc933",
   "metadata": {},
   "source": [
    "## Reducción del vocabulario"
   ]
  },
  {
   "cell_type": "markdown",
   "id": "a5f246d4-9b23-4745-a941-529862769e85",
   "metadata": {},
   "source": [
    "### Vocabulario del conjunto de entrenamiento\n",
    "\n",
    "#### **Se puede jugar con esta celda para aumentar o reducir aún más el vocabulario**\n",
    "* La versión anterior tenía muy pocas palabras\n",
    "* Esta nueva versión aumentó el vocabulario a poco mas de 1,300 palabras\n",
    "* Sigue siendo bastante menor al tamaño original"
   ]
  },
  {
   "cell_type": "code",
   "execution_count": 10,
   "id": "3d050518-da11-44e3-9892-b0f0554eeee7",
   "metadata": {},
   "outputs": [
    {
     "name": "stdout",
     "output_type": "stream",
     "text": [
      "7210\n",
      "1023\n"
     ]
    }
   ],
   "source": [
    "s=df_train.texto.str.cat(sep=' ').split()\n",
    "print(len(s))\n",
    "conteos=Counter(s)\n",
    "# print(conteos)\n",
    "# nuevo_vocabulario = list(set([palabra for palabra in s if conteos[palabra] <= 10 and conteos[palabra]>3 ]))\n",
    "nuevo_vocabulario = list(set([palabra for palabra in s if conteos[palabra] <= 10 and conteos[palabra]>1 ]))\n",
    "print(len(nuevo_vocabulario))"
   ]
  },
  {
   "cell_type": "code",
   "execution_count": 11,
   "id": "30b38a2f-aa99-47ec-b580-507d497c538b",
   "metadata": {},
   "outputs": [
    {
     "data": {
      "text/html": [
       "<div>\n",
       "<style scoped>\n",
       "    .dataframe tbody tr th:only-of-type {\n",
       "        vertical-align: middle;\n",
       "    }\n",
       "\n",
       "    .dataframe tbody tr th {\n",
       "        vertical-align: top;\n",
       "    }\n",
       "\n",
       "    .dataframe thead th {\n",
       "        text-align: right;\n",
       "    }\n",
       "</style>\n",
       "<table border=\"1\" class=\"dataframe\">\n",
       "  <thead>\n",
       "    <tr style=\"text-align: right;\">\n",
       "      <th></th>\n",
       "      <th>titulo</th>\n",
       "      <th>tipo</th>\n",
       "      <th>autor</th>\n",
       "      <th>texto</th>\n",
       "      <th>nuevo_texto</th>\n",
       "      <th>nuevo_total</th>\n",
       "      <th>Conteos</th>\n",
       "    </tr>\n",
       "  </thead>\n",
       "  <tbody>\n",
       "    <tr>\n",
       "      <th>0</th>\n",
       "      <td>catástrofes</td>\n",
       "      <td>minicuento</td>\n",
       "      <td>alfonso reyes</td>\n",
       "      <td>pasa hablado cierta catástrofe cósmica amenaza...</td>\n",
       "      <td>pasa cierta catástrofe amenaza fondo catástrof...</td>\n",
       "      <td>26</td>\n",
       "      <td>{'pasa': 1, 'cierta': 1, 'catástrofe': 3, 'ame...</td>\n",
       "    </tr>\n",
       "    <tr>\n",
       "      <th>1</th>\n",
       "      <td>del perfecto gobernante</td>\n",
       "      <td>minicuento</td>\n",
       "      <td>alfonso reyes</td>\n",
       "      <td>entiende perfecto gobernante perfecto lleno pe...</td>\n",
       "      <td>entiende perfecto gobernante perfecto lleno pe...</td>\n",
       "      <td>56</td>\n",
       "      <td>{'entiende': 1, 'perfecto': 3, 'gobernante': 4...</td>\n",
       "    </tr>\n",
       "    <tr>\n",
       "      <th>2</th>\n",
       "      <td>ley profunda</td>\n",
       "      <td>minicuento</td>\n",
       "      <td>alfonso reyes</td>\n",
       "      <td>trata libertarnos simplemente enseñarnos descu...</td>\n",
       "      <td>debe ley lleva pasa saber peso alma suma conoc...</td>\n",
       "      <td>10</td>\n",
       "      <td>{'debe': 1, 'ley': 1, 'lleva': 1, 'pasa': 1, '...</td>\n",
       "    </tr>\n",
       "    <tr>\n",
       "      <th>3</th>\n",
       "      <td>los alivios</td>\n",
       "      <td>minicuento</td>\n",
       "      <td>alfonso reyes</td>\n",
       "      <td>nombres usan castellano restroom impropios bañ...</td>\n",
       "      <td>nombres usan baño nombre alivios ido vuelve al...</td>\n",
       "      <td>8</td>\n",
       "      <td>{'nombres': 1, 'usan': 1, 'baño': 1, 'nombre':...</td>\n",
       "    </tr>\n",
       "    <tr>\n",
       "      <th>4</th>\n",
       "      <td>el buen rey león</td>\n",
       "      <td>fábula</td>\n",
       "      <td>esopo</td>\n",
       "      <td>león enojoso cruel violento sino tratable just...</td>\n",
       "      <td>león cruel violento sino justo buena llegó rey...</td>\n",
       "      <td>26</td>\n",
       "      <td>{'león': 1, 'cruel': 1, 'violento': 1, 'sino':...</td>\n",
       "    </tr>\n",
       "  </tbody>\n",
       "</table>\n",
       "</div>"
      ],
      "text/plain": [
       "                    titulo        tipo          autor  \\\n",
       "0              catástrofes  minicuento  alfonso reyes   \n",
       "1  del perfecto gobernante  minicuento  alfonso reyes   \n",
       "2             ley profunda  minicuento  alfonso reyes   \n",
       "3              los alivios  minicuento  alfonso reyes   \n",
       "4         el buen rey león      fábula          esopo   \n",
       "\n",
       "                                               texto  \\\n",
       "0  pasa hablado cierta catástrofe cósmica amenaza...   \n",
       "1  entiende perfecto gobernante perfecto lleno pe...   \n",
       "2  trata libertarnos simplemente enseñarnos descu...   \n",
       "3  nombres usan castellano restroom impropios bañ...   \n",
       "4  león enojoso cruel violento sino tratable just...   \n",
       "\n",
       "                                         nuevo_texto  nuevo_total  \\\n",
       "0  pasa cierta catástrofe amenaza fondo catástrof...           26   \n",
       "1  entiende perfecto gobernante perfecto lleno pe...           56   \n",
       "2  debe ley lleva pasa saber peso alma suma conoc...           10   \n",
       "3  nombres usan baño nombre alivios ido vuelve al...            8   \n",
       "4  león cruel violento sino justo buena llegó rey...           26   \n",
       "\n",
       "                                             Conteos  \n",
       "0  {'pasa': 1, 'cierta': 1, 'catástrofe': 3, 'ame...  \n",
       "1  {'entiende': 1, 'perfecto': 3, 'gobernante': 4...  \n",
       "2  {'debe': 1, 'ley': 1, 'lleva': 1, 'pasa': 1, '...  \n",
       "3  {'nombres': 1, 'usan': 1, 'baño': 1, 'nombre':...  \n",
       "4  {'león': 1, 'cruel': 1, 'violento': 1, 'sino':...  "
      ]
     },
     "execution_count": 11,
     "metadata": {},
     "output_type": "execute_result"
    }
   ],
   "source": [
    "df_train_T = df_train.copy()\n",
    "df_train_T['nuevo_texto']=df_train_T.texto.str.split().\\\n",
    "    apply(lambda texto: [w for w in texto if w in nuevo_vocabulario]).\\\n",
    "    apply(lambda x : ' '.join(x))\n",
    "df_train_T['nuevo_total']=df_train_T.nuevo_texto.str.split().apply(len)\n",
    "df_train_T['Conteos']=df_train_T.nuevo_texto.str.split().apply(Counter)\n",
    "\n",
    "\n",
    "df_train_T.head()"
   ]
  },
  {
   "cell_type": "code",
   "execution_count": 12,
   "id": "88f3d5dc-daf9-4f9e-8022-c6131a12a6d9",
   "metadata": {},
   "outputs": [
    {
     "name": "stdout",
     "output_type": "stream",
     "text": [
      "Counter({'catástrofe': 3, 'parte': 2, 'pasa': 1, 'hablado': 1, 'cierta': 1, 'cósmica': 1, 'amenaza': 1, 'fondo': 1, 'universo': 1, 'ancorajes': 1, 'fragmento': 1, 'pues': 1, 'sucede': 1, 'alguna': 1, 'distante': 1, 'ignorada': 1, 'repercute': 1, 'cofrecito': 1, 'vibratorio': 1, 'corazón': 1, 'muchas': 1, 'veces': 1, 'sabemos': 1, 'rara': 1, 'inquietud': 1, 'traviesa': 1, 'dolor': 1, 'inesperado': 1, 'malestar': 1, 'llega': 1, 'ser': 1, 'físico': 1, 'corpóreo': 1, 'mejor': 1, 'reventado': 1, 'cometa': 1, 'estallado': 1, 'nebulosa': 1, 'viento': 1, 'energías': 1, 'etéreas': 1, 'desatado': 1, 'varios': 1, 'millones': 1, 'añosluz': 1, 'ahora': 1, 'llegando': 1, 'casa': 1, 'nubes': 1, 'radiantes': 1, 'visitan': 1, 'puede': 1, 'extinguirse': 1, 'estrella': 1, 'paguemos': 1, 'aún': 1, 'merecerlo': 1, 'vivimos': 1, 'morimos': 1, 'asaetados': 1, 'oscuras': 1, 'flechas': 1, 'arqueros': 1, 'sombras': 1, 'sitiados': 1})\n",
      "Counter({'catástrofe': 3, 'parte': 2, 'pasa': 1, 'cierta': 1, 'amenaza': 1, 'fondo': 1, 'pues': 1, 'sucede': 1, 'alguna': 1, 'corazón': 1, 'muchas': 1, 'veces': 1, 'inesperado': 1, 'llega': 1, 'mejor': 1, 'viento': 1, 'varios': 1, 'llegando': 1, 'estrella': 1, 'aún': 1, 'vivimos': 1, 'oscuras': 1, 'sombras': 1})\n",
      "Counter({'catástrofe': 3, 'parte': 2, 'pasa': 1, 'cierta': 1, 'amenaza': 1, 'fondo': 1, 'pues': 1, 'sucede': 1, 'alguna': 1, 'corazón': 1, 'muchas': 1, 'veces': 1, 'inesperado': 1, 'llega': 1, 'mejor': 1, 'viento': 1, 'varios': 1, 'llegando': 1, 'estrella': 1, 'aún': 1, 'vivimos': 1, 'oscuras': 1, 'sombras': 1})\n"
     ]
    }
   ],
   "source": [
    "print(Counter(df_train_T.iloc[0].texto.split()))\n",
    "print(Counter(df_train_T.iloc[0].nuevo_texto.split()))\n",
    "print(df_train_T.iloc[0].Conteos)"
   ]
  },
  {
   "cell_type": "code",
   "execution_count": 13,
   "id": "008d3a65-8630-4671-bdd6-efc8f7035385",
   "metadata": {},
   "outputs": [
    {
     "name": "stdout",
     "output_type": "stream",
     "text": [
      "nombres usan castellano restroom impropios baño abominables proponemos nombre inocuo evocador alivios adónde ido fulana ahora vuelve alivios\n",
      "nombres usan baño nombre alivios ido vuelve alivios\n"
     ]
    }
   ],
   "source": [
    "print(df_train_T.iloc[3].texto)\n",
    "print(df_train_T.iloc[3].nuevo_texto)"
   ]
  },
  {
   "cell_type": "markdown",
   "id": "4a083f2f-69fc-4fda-b9ec-c9404f84e048",
   "metadata": {},
   "source": [
    "#### Tamaño del vocabulario de entrenamiento"
   ]
  },
  {
   "cell_type": "code",
   "execution_count": 14,
   "id": "e6887019-6fd8-4467-ba27-1a010895a8b1",
   "metadata": {},
   "outputs": [
    {
     "name": "stdout",
     "output_type": "stream",
     "text": [
      "1023\n"
     ]
    }
   ],
   "source": [
    "print(len(nuevo_vocabulario))"
   ]
  },
  {
   "cell_type": "markdown",
   "id": "2c786425-5d6c-42eb-8961-3247bab03c7f",
   "metadata": {},
   "source": [
    "### Vocabulario del conjunto de prueba"
   ]
  },
  {
   "cell_type": "code",
   "execution_count": 15,
   "id": "d1908efe-cc51-4363-bdc1-de184d762325",
   "metadata": {},
   "outputs": [
    {
     "name": "stdout",
     "output_type": "stream",
     "text": [
      "2224\n",
      "336\n"
     ]
    }
   ],
   "source": [
    "s=df_test.texto.str.cat(sep=' ').split()\n",
    "print(len(s))\n",
    "conteos=Counter(s)\n",
    "# print(conteos)\n",
    "nuevo_vocab = list(set([palabra for palabra in s if conteos[palabra] <= 10 and conteos[palabra]>1 ]))\n",
    "print(len(nuevo_vocab))"
   ]
  },
  {
   "cell_type": "code",
   "execution_count": 16,
   "id": "8c8352dd-21ad-41e5-8e57-c11f37030dd1",
   "metadata": {},
   "outputs": [
    {
     "data": {
      "text/html": [
       "<div>\n",
       "<style scoped>\n",
       "    .dataframe tbody tr th:only-of-type {\n",
       "        vertical-align: middle;\n",
       "    }\n",
       "\n",
       "    .dataframe tbody tr th {\n",
       "        vertical-align: top;\n",
       "    }\n",
       "\n",
       "    .dataframe thead th {\n",
       "        text-align: right;\n",
       "    }\n",
       "</style>\n",
       "<table border=\"1\" class=\"dataframe\">\n",
       "  <thead>\n",
       "    <tr style=\"text-align: right;\">\n",
       "      <th></th>\n",
       "      <th>titulo</th>\n",
       "      <th>texto</th>\n",
       "      <th>nuevo_texto</th>\n",
       "      <th>nuevo_total</th>\n",
       "      <th>Conteos</th>\n",
       "    </tr>\n",
       "  </thead>\n",
       "  <tbody>\n",
       "    <tr>\n",
       "      <th>0</th>\n",
       "      <td>divina fragilidad</td>\n",
       "      <td>dios creó universo sentía solo eternidad empez...</td>\n",
       "      <td>dios universo sentía empezó sentía cosa tan un...</td>\n",
       "      <td>90</td>\n",
       "      <td>{'dios': 9, 'universo': 3, 'sentía': 2, 'empez...</td>\n",
       "    </tr>\n",
       "    <tr>\n",
       "      <th>1</th>\n",
       "      <td>dos seres iguales</td>\n",
       "      <td>cierto día profeta sharía encontró niña jardín...</td>\n",
       "      <td>cierto profeta sharía encontró niña jardín niñ...</td>\n",
       "      <td>92</td>\n",
       "      <td>{'cierto': 1, 'profeta': 7, 'sharía': 4, 'enco...</td>\n",
       "    </tr>\n",
       "    <tr>\n",
       "      <th>2</th>\n",
       "      <td>el caballo y el lobo</td>\n",
       "      <td>estación blandos céfiros hacen verdear campos ...</td>\n",
       "      <td>campos vida cierto lobo alegría buena seguida ...</td>\n",
       "      <td>34</td>\n",
       "      <td>{'campos': 1, 'vida': 1, 'cierto': 1, 'lobo': ...</td>\n",
       "    </tr>\n",
       "    <tr>\n",
       "      <th>3</th>\n",
       "      <td>el cetro</td>\n",
       "      <td>dijo rey esposa señora verdaderamente reina de...</td>\n",
       "      <td>rey esposa señora reina ser esposa señor rey s...</td>\n",
       "      <td>35</td>\n",
       "      <td>{'rey': 3, 'esposa': 2, 'señora': 1, 'reina': ...</td>\n",
       "    </tr>\n",
       "    <tr>\n",
       "      <th>4</th>\n",
       "      <td>el impostor</td>\n",
       "      <td>cansada esperar hombre llegó puntual sonreírme...</td>\n",
       "      <td>cansada esperar hombre llegó primer nombre rep...</td>\n",
       "      <td>83</td>\n",
       "      <td>{'cansada': 1, 'esperar': 1, 'hombre': 2, 'lle...</td>\n",
       "    </tr>\n",
       "  </tbody>\n",
       "</table>\n",
       "</div>"
      ],
      "text/plain": [
       "                 titulo                                              texto  \\\n",
       "0     divina fragilidad  dios creó universo sentía solo eternidad empez...   \n",
       "1     dos seres iguales  cierto día profeta sharía encontró niña jardín...   \n",
       "2  el caballo y el lobo  estación blandos céfiros hacen verdear campos ...   \n",
       "3              el cetro  dijo rey esposa señora verdaderamente reina de...   \n",
       "4           el impostor  cansada esperar hombre llegó puntual sonreírme...   \n",
       "\n",
       "                                         nuevo_texto  nuevo_total  \\\n",
       "0  dios universo sentía empezó sentía cosa tan un...           90   \n",
       "1  cierto profeta sharía encontró niña jardín niñ...           92   \n",
       "2  campos vida cierto lobo alegría buena seguida ...           34   \n",
       "3  rey esposa señora reina ser esposa señor rey s...           35   \n",
       "4  cansada esperar hombre llegó primer nombre rep...           83   \n",
       "\n",
       "                                             Conteos  \n",
       "0  {'dios': 9, 'universo': 3, 'sentía': 2, 'empez...  \n",
       "1  {'cierto': 1, 'profeta': 7, 'sharía': 4, 'enco...  \n",
       "2  {'campos': 1, 'vida': 1, 'cierto': 1, 'lobo': ...  \n",
       "3  {'rey': 3, 'esposa': 2, 'señora': 1, 'reina': ...  \n",
       "4  {'cansada': 1, 'esperar': 1, 'hombre': 2, 'lle...  "
      ]
     },
     "execution_count": 16,
     "metadata": {},
     "output_type": "execute_result"
    }
   ],
   "source": [
    "df_test_T = df_test.copy()\n",
    "df_test_T['nuevo_texto']=df_test_T.texto.str.split().\\\n",
    "    apply(lambda texto: [w for w in texto if w in nuevo_vocab]).\\\n",
    "    apply(lambda x : ' '.join(x))\n",
    "df_test_T['nuevo_total']=df_test_T.nuevo_texto.str.split().apply(len)\n",
    "df_test_T['Conteos']=df_test_T.nuevo_texto.str.split().apply(Counter)\n",
    "\n",
    "\n",
    "df_test_T.head()"
   ]
  },
  {
   "cell_type": "markdown",
   "id": "b68aae0e-e05d-443a-ba60-9d55ae2de111",
   "metadata": {},
   "source": [
    "#### Tamaño del vocabulario de prueba"
   ]
  },
  {
   "cell_type": "code",
   "execution_count": 17,
   "id": "4933834d-925f-4e67-b41e-adec500c4ed3",
   "metadata": {},
   "outputs": [
    {
     "name": "stdout",
     "output_type": "stream",
     "text": [
      "336\n",
      "dios creó universo sentía solo eternidad empezó solo sentía solo necesitaba inventar cosa tan complicada universo dios contado incluso espectáculo magnífico nebulosas agujeros negros tal sentimiento soledad persistiese atormentarlo pensó pensó cabo pensar hizo mujer imagen semejanza después habiéndola hecho vio bueno tarde comprendió solo curaría definitivamente mal solo acostándose verificó aún mejor pasado algún tiempo posible saber previsión accidente biológico mente divina nació niño imagen semejanza dios niño creció convirtió joven hombre ahora bien dios pasó cabeza simple idea crear mujer dar joven sentimiento soledad afligido padre tardó repetirse hijo ahí entró diablo esperar primer impulso dios acabar ahí mismo incestuosa especie entró repente cansancio fastidio tener repetir creación hecho universo parecía tan magnífico dirá siendo dios podía hacer cuantos universos quisiese equivale desconocer naturaleza profunda dios lógicamente hecho mejor universos posibles podía hacer forzosamente ser menos bueno además dios ahora menos deseaba verse vez solo contentó expulsar deshonestas malagradecidas criaturas jurándose mismo perdería vista futuro perversa descendencia caso así empezó dios dos razones conservar especie humana castigarla merecía divina fragilidad hiciese compañía\n",
      "dios universo sentía empezó sentía cosa tan universo dios magnífico tal sentimiento soledad pensó pensó pensar hizo mujer imagen semejanza hecho vio bueno tarde curaría mal aún mejor algún tiempo saber divina niño imagen semejanza dios niño joven hombre ahora bien dios pasó cabeza mujer joven sentimiento soledad ahí entró esperar primer dios ahí mismo especie entró tener hecho universo parecía tan magnífico dios podía hacer cuantos universos dios hecho mejor universos podía hacer ser menos bueno dios ahora menos deseaba vez mismo caso así empezó dios especie divina compañía\n"
     ]
    }
   ],
   "source": [
    "print(len(nuevo_vocab))\n",
    "print(df_test_T.iloc[0].texto)\n",
    "print(df_test_T.iloc[0].nuevo_texto)"
   ]
  },
  {
   "cell_type": "markdown",
   "id": "13e40540-ba08-4e6f-88e5-bb8d07bc3df7",
   "metadata": {},
   "source": [
    "#### Tamaño del vocabulario conjunto (total de palabras)"
   ]
  },
  {
   "cell_type": "code",
   "execution_count": 39,
   "id": "5e7c172d-1575-4468-9162-df2063d8fa98",
   "metadata": {},
   "outputs": [
    {
     "name": "stdout",
     "output_type": "stream",
     "text": [
      "1207\n"
     ]
    }
   ],
   "source": [
    "vocabulario = list(set(nuevo_vocabulario+nuevo_vocab))\n",
    "print(len(vocabulario))"
   ]
  },
  {
   "cell_type": "markdown",
   "id": "3e983962-0b83-4ec6-908e-8f4a6b51b84c",
   "metadata": {
    "tags": []
   },
   "source": [
    "## Diccionario del vocabulario"
   ]
  },
  {
   "cell_type": "code",
   "execution_count": 47,
   "id": "13c96623-eb33-4905-8886-52f96c331592",
   "metadata": {},
   "outputs": [
    {
     "name": "stdout",
     "output_type": "stream",
     "text": [
      "fieras, rebuscador, estrella, jabón, bien, volví, decir, agente, repitió, dije, "
     ]
    }
   ],
   "source": [
    "voc_dict = OrderedDict(zip(vocabulario,range(len(vocabulario))))\n",
    "v = list(voc_dict.keys())\n",
    "i=0\n",
    "while i<10:\n",
    "    print(v[i], end=', ')\n",
    "    i+=1"
   ]
  },
  {
   "cell_type": "markdown",
   "id": "c9d8c7d9-61e4-4c8e-bc4c-955aeb51fd7b",
   "metadata": {},
   "source": [
    "# Modelo"
   ]
  },
  {
   "cell_type": "markdown",
   "id": "07d2e454-6ccb-485c-b6c8-204cd6877914",
   "metadata": {},
   "source": [
    "## Suponiendo un modelo de descomposición exacta:\n",
    "### $P(A)P(T|A)\\displaystyle \\prod P(W|AT)$"
   ]
  },
  {
   "cell_type": "markdown",
   "id": "120f1997-75d0-414c-a376-33359770f0a8",
   "metadata": {},
   "source": [
    "## Variables"
   ]
  },
  {
   "cell_type": "markdown",
   "id": "2e63a27e-8c92-45ec-a1ea-8daa9755c7e9",
   "metadata": {},
   "source": [
    "### Conteo de autores y tipos"
   ]
  },
  {
   "cell_type": "code",
   "execution_count": 41,
   "id": "7169f658-5c0b-4be8-a05c-1a1637c2834b",
   "metadata": {},
   "outputs": [
    {
     "name": "stdout",
     "output_type": "stream",
     "text": [
      "Counter({'gibrán jalil gibrán': 5, 'alfonso reyes': 4, 'gabriel garcía márquez': 4, 'jean de la fontaine': 4, 'esopo': 3, 'carlos fuentes': 2, 'juan carlos onetti': 2, 'horacio quiroga': 2, 'juan rulfo': 2, 'josé saramago': 2})\n",
      "30\n",
      "10\n",
      "Counter({'minicuento': 14, 'cuento': 13, 'fábula': 3})\n",
      "30\n",
      "3\n"
     ]
    }
   ],
   "source": [
    "# Ocurrencias de cada autor y conteos de ocurrencias y de número de autores\n",
    "oc_autor = Counter(df_train_T.autor)\n",
    "tot_oc_aut = np.sum(list(oc_autor.values()))\n",
    "tot_autores = len(oc_autor)\n",
    "\n",
    "print(oc_autor)\n",
    "print(tot_oc_aut)\n",
    "print(tot_autores)\n",
    "\n",
    "# Ocurrencias de cada tipo y conteos de ocurrencias y de número de tipos\n",
    "oc_tipo = Counter(df_train_T.tipo)\n",
    "tot_oc_tipo = np.sum(list(oc_tipo.values()))\n",
    "tot_tipos = len(oc_tipo)\n",
    "\n",
    "print(oc_tipo)\n",
    "print(tot_oc_tipo)  #debe ser igual a tot_oc_aut\n",
    "print(tot_tipos)"
   ]
  },
  {
   "cell_type": "markdown",
   "id": "4e249c2d-31e8-4099-8ad0-b0ec57caa8c6",
   "metadata": {},
   "source": [
    "### Definición de variables MIB\n",
    "\n",
    "#### **Nota Importante**\n",
    "* Por ahora, el motor de inferencia sólo acepta valores numéricos como valores posibles de una variable.\n",
    "* Por lo tanto, vamos a crear un mapeo entre los nombres de los autores y un valor entero mediante un diccionario.\n",
    "* También creamos un mapeo inverso, para poder recuperar las etiquetas a partir de los enteros.\n",
    "* Haremos lo mismo con los tipos."
   ]
  },
  {
   "cell_type": "code",
   "execution_count": 42,
   "id": "6a5651a0-63f8-451c-b7c8-af2b3f75916c",
   "metadata": {},
   "outputs": [
    {
     "name": "stdout",
     "output_type": "stream",
     "text": [
      "{'alfonso reyes': 0, 'esopo': 1, 'carlos fuentes': 2, 'gabriel garcía márquez': 3, 'gibrán jalil gibrán': 4, 'jean de la fontaine': 5, 'juan carlos onetti': 6, 'horacio quiroga': 7, 'juan rulfo': 8, 'josé saramago': 9}\n",
      "{0: 'alfonso reyes', 1: 'esopo', 2: 'carlos fuentes', 3: 'gabriel garcía márquez', 4: 'gibrán jalil gibrán', 5: 'jean de la fontaine', 6: 'juan carlos onetti', 7: 'horacio quiroga', 8: 'juan rulfo', 9: 'josé saramago'}\n",
      "('A', 10, [0, 1, 2, 3, 4, 5, 6, 7, 8, 9])\n",
      "('T', 3, [0, 1, 2])\n",
      "1207\n",
      "W[0]: {'fieras': <mib.Var object at 0x0000019356CB5F48>}\n",
      "W[1]: {'rebuscador': <mib.Var object at 0x0000019356CB5DC8>}\n",
      "W[2]: {'estrella': <mib.Var object at 0x0000019356CB5A48>}\n",
      "W[3]: {'jabón': <mib.Var object at 0x0000019356CB5A88>}\n",
      "W[4]: {'bien': <mib.Var object at 0x0000019356CB5A08>}\n",
      "W[5]: {'volví': <mib.Var object at 0x00000193556C3488>}\n",
      "W[6]: {'decir': <mib.Var object at 0x00000193559F8308>}\n",
      "W[7]: {'agente': <mib.Var object at 0x00000193559F8EC8>}\n",
      "W[8]: {'repitió': <mib.Var object at 0x000001935599CE88>}\n",
      "W[9]: {'dije': <mib.Var object at 0x00000193568E36C8>}\n"
     ]
    }
   ],
   "source": [
    "#Autor\n",
    "autor_val = dict(zip(oc_autor.keys(),range(len(oc_autor.keys()))))\n",
    "val_autor = dict(zip(range(len(oc_autor.keys())),oc_autor.keys()))\n",
    "print(autor_val)\n",
    "print(val_autor)\n",
    "A=mb.Var('A')\n",
    "A.set_values(range(len(autor_val)))\n",
    "print(A.print_var())\n",
    "\n",
    "#Tipo\n",
    "tipo_val = dict(zip(oc_tipo.keys(),range(len(oc_tipo.keys()))))\n",
    "val_tipo = dict(zip(range(len(oc_tipo.keys())),oc_tipo.keys()))\n",
    "T=mb.Var('T')\n",
    "T.set_values(range(len(oc_tipo.keys())))\n",
    "print(T.print_var())\n",
    "\n",
    "#Palabras, presente:1 ausente:0\n",
    "#Se crean de manera similar a como se hizo para el filtro SPAM\n",
    "W = {}\n",
    "for w in voc_dict:    #vocabulario reducido\n",
    "    i = voc_dict[w]\n",
    "    W[i] = {w:mb.Var(name='W'+str(i),values=[0,1])}\n",
    "print(len(W))\n",
    "for i in range(10):\n",
    "    print(f'W[{i}]: {W[i]}')"
   ]
  },
  {
   "cell_type": "markdown",
   "id": "4a0d3119-e79f-4d3f-bfd4-3870baeb2284",
   "metadata": {},
   "source": [
    "## Identificación de parámetros (estadísticas)"
   ]
  },
  {
   "cell_type": "markdown",
   "id": "b23d1530-3247-4c40-b651-eaada5f251cf",
   "metadata": {
    "tags": []
   },
   "source": [
    "### Método:\n",
    "1. Descomposición exacta: $P(A)P(T|A)P(W|AT)$\n",
    "2. Calcular las estadísticas por cada distribución de la descomposición\n",
    "3. Para la variable Autor $P(A)$:\n",
    "    - 3.1 Contar el número total de ocurrencias de autores en Train: $n_a$.\n",
    "    - 3.2 Contar el número de ocurrencias de cada autor en Train: $n^i$.\n",
    "    - 3.3 Dividir este número entre el número total de ocurrencias de autores en Train: $\\displaystyle \\frac{n^i}{n_a}$.\n",
    "4. Para la variable Tipo $P(T|A)$:\n",
    "    - 4.1 Obtener el conjunto de autores (valores únicos) $a$; entradas a la Tabla.\n",
    "    - 4.2 Obtener el conjunto de tipos (valores únicos) $j$; estas son las salidas de la Tabla.\n",
    "    - 4.3 Calcular el producto cartesiano de las combinaciones posibles (a,j).\n",
    "    - 4.4 Contar el número de ocurrencias totales de cada $j$ por cada autor: $n^j_a$.\n",
    "    - 4.5 Dividir este número entre el número total de tipos por autor: $\\displaystyle \\frac{n^j_a}{\\sum n^j_a}$.\n",
    "    - 4.6 Aplicar la corrección de Laplace para evitar probabilidades en $0$.\n",
    "5. Para las variables W (palabras) $P(W|AT)$: **NOTA** se trata de calcular N Tablas, donde N es el tamaño del vocabulario.\n",
    "    - 5.1 Calcular el producto cartesiano de las combinaciones posibles (a,j); estas son las entradas a cada Tabla.\n",
    "    - 5.2 Por cada combinación, calcular la probabilidad de cada palabra del vocabulario, en función de su ocurrencia en esa combinación, aplicando la corrección de Laplace. "
   ]
  },
  {
   "cell_type": "markdown",
   "id": "7c6a64df-0f3a-4a29-bbba-9a4b7ef65edf",
   "metadata": {},
   "source": [
    "## $P(A)$\n",
    "   - Contar el número total de ocurrencias de autores en Train: $n_a$: _tot_oc_aut_\n",
    "   - Contar el número de ocurrencias de cada autor en Train: $n^i$: _oc_autor_ \n",
    "   - Dividir este número entre el número total de ocurrencias de autores en Train: $\\displaystyle \\frac{n^i}{n_a}$"
   ]
  },
  {
   "cell_type": "code",
   "execution_count": 21,
   "id": "83614a3a-73d6-4c78-a597-caa8bc8f83db",
   "metadata": {},
   "outputs": [
    {
     "name": "stdout",
     "output_type": "stream",
     "text": [
      "Printing:  P(A)\n",
      "('A', 0):0.13333333333333333  ('A', 1):0.1  ('A', 2):0.06666666666666667  ('A', 3):0.13333333333333333  ('A', 4):0.16666666666666666  ('A', 5):0.13333333333333333  ('A', 6):0.06666666666666667  ('A', 7):0.06666666666666667  ('A', 8):0.06666666666666667  ('A', 9):0.06666666666666667  \n",
      "\n"
     ]
    }
   ],
   "source": [
    "n_=[]\n",
    "for autor in oc_autor:\n",
    "    n_.append((autor,oc_autor[autor]/tot_oc_aut))\n",
    "\n",
    "#Dicionario de valores de probabilidad\n",
    "dA = dict(n_)\n",
    "#Distribución de probabilidad\n",
    "PA=mb.Distrib(name='P(A)',variable=[A],tabla=dA)\n",
    "PA._print()"
   ]
  },
  {
   "cell_type": "markdown",
   "id": "d0cb907e-589b-4136-8e56-c632164ec842",
   "metadata": {},
   "source": [
    "## $P(T|A)$\n",
    "   - Obtener el conjunto de autores (valores únicos) $a$; entradas a la Tabla: _df_train.autor_\n",
    "   - Obtener el conjunto de tipos (valores únicos) $j$; estas son las salidas de la Tabla: _df_train.tipo_ \n",
    "   - Calcular el producto cartesiano de las combinaciones posibles (a,j): _pares_ta_\n",
    "   - Contar el número de ocurrencias totales de cada $j$ por cada autor: $n^j_a$: _conteo_pares_\n",
    "   - Dividir este número entre el número total de tipos por autor: $\\displaystyle \\frac{n^j_a}{\\sum n^j_a}$.\n",
    "   - Aplicar la corrección de Laplace para evitar probabilidades en $0$."
   ]
  },
  {
   "cell_type": "code",
   "execution_count": 22,
   "id": "d0c395c5-63da-4289-995e-d274822ce1ce",
   "metadata": {},
   "outputs": [
    {
     "name": "stdout",
     "output_type": "stream",
     "text": [
      "Printing:  P(T|A)\n",
      "('A', 0):{('T', 0): 0.25, ('T', 1): 0.125, ('T', 2): 0.625}  ('A', 1):{('T', 0): 0.7142857142857143, ('T', 1): 0.14285714285714285, ('T', 2): 0.14285714285714285}  ('A', 2):{('T', 0): 0.16666666666666666, ('T', 1): 0.6666666666666666, ('T', 2): 0.16666666666666666}  ('A', 3):{('T', 0): 0.2, ('T', 1): 0.2, ('T', 2): 0.6}  ('A', 4):{('T', 0): 0.2, ('T', 1): 0.2, ('T', 2): 0.6}  ('A', 5):{('T', 0): 0.4, ('T', 1): 0.2, ('T', 2): 0.4}  ('A', 6):{('T', 0): 0.5714285714285714, ('T', 1): 0.14285714285714285, ('T', 2): 0.2857142857142857}  ('A', 7):{('T', 0): 0.4, ('T', 1): 0.2, ('T', 2): 0.4}  ('A', 8):{('T', 0): 0.7142857142857143, ('T', 1): 0.14285714285714285, ('T', 2): 0.14285714285714285}  ('A', 9):{('T', 0): 0.2, ('T', 1): 0.2, ('T', 2): 0.6}  \n",
      "\n"
     ]
    }
   ],
   "source": [
    "# Ocurrencias (conteos) de cada combinación (tipo,autor)\n",
    "conteo_pares = Counter(zip(df_train_T.autor,df_train_T.tipo))\n",
    "# print(conteo_pares)\n",
    "\n",
    "# Combinaciones (tipo,autor)\n",
    "autores = list(set(df_train_T.autor))\n",
    "tipos = list(set(df_train_T.tipo))\n",
    "pares_ta = product(autores,tipos)\n",
    "\n",
    "# Llenado preliminar de la Tabla de probabilidades con conteos por tipo dado el autor\n",
    "# Se usan claves numéricas definidas más arriba: {'alfonso reyes': 0, 'esopo': 1, \n",
    "#'carlos fuentes': 2, 'gabriel garcía márquez': 3, 'gibrán jalil gibrán': 4, \n",
    "#'jean de la fontaine': 5, 'juan carlos onetti': 6, 'horacio quiroga': 7, \n",
    "#'juan rulfo': 8, 'josé saramago': 9}\n",
    "dT_A = {}\n",
    "for autor, tipo in pares_ta:\n",
    "    par = (autor,tipo)\n",
    "    av = autor_val[autor]\n",
    "    if av in dT_A.keys():\n",
    "        if par in conteo_pares.keys():\n",
    "            dT_A[av][tipo_val[tipo]]=conteo_pares[par]\n",
    "        else:\n",
    "            dT_A[av][tipo_val[tipo]]=0            \n",
    "    else:\n",
    "        if par in conteo_pares.keys():\n",
    "            dT_A[av]={tipo_val[tipo]:conteo_pares[par]}\n",
    "        else:\n",
    "            dT_A[av]={tipo_val[tipo]:0}\n",
    "# print(dT_A)\n",
    "\n",
    "# Corrección de Laplace en el caso general\n",
    "# Se corrige la misma tabla que se senvía como argumento; no se crea una nueva.\n",
    "def Laplace_gral(tabla):\n",
    "    n = len(tabla[list(tabla.keys())[0]]) \n",
    "    for k in tabla.keys():\n",
    "        registro = tabla[k]\n",
    "        n_j = np.sum(list(registro.values()))\n",
    "        for i in registro.keys():\n",
    "            pb = (registro[i] + 1)/(n_j+n)\n",
    "            tabla[k][i]=pb\n",
    "    return\n",
    "\n",
    "Laplace_gral(dT_A)\n",
    "# print(dT_A)\n",
    "\n",
    "#Distribución de probabilidad\n",
    "PT_A=mb.DistribCond('P(T|A)',[T],[A],dT_A)\n",
    "PT_A._print()"
   ]
  },
  {
   "cell_type": "markdown",
   "id": "33bec3a5-b31a-4898-83b6-5072d4886e77",
   "metadata": {},
   "source": [
    "## $P(W|AT)$\n",
    "   - Calcular el producto cartesiano de las combinaciones posibles (a,j); estas son las entradas a cada Tabla.\n",
    "   - Por cada combinación, calcular la probabilidad de cada palabra del vocabulario, en función de su ocurrencia en esa combinación, aplicando la corrección de Laplace. "
   ]
  },
  {
   "cell_type": "markdown",
   "id": "2560b478-f128-4cb8-a6d2-f045caaeb675",
   "metadata": {},
   "source": [
    "#### Procedemos de manera similar a como lo hicimos para el modelo de filtrado SPAM.\n",
    "* Las palabras a tomar en cuenta son las del vocabulario.\n",
    "* Se deben codificar las combinaciones (a,t) en valores numéricos.\n",
    "* Por cada combinación (a,t):\n",
    "    - si existe una historia (nuevo_texto), entonces cada palabra de este cuento está presente, y el resto de las palabras del vocabulario están ausentes.\n",
    "    - si no hay historia, entonces ninguna palabra del vocabulario está presente --> Probabilidad 0 para todo el vocabulario.\n",
    "* Al aplicar la corrección de Laplace, evitamos que una combinación (a,t), que por ahora no tiene texto, se considere imposible, al asignarle una probabilidad mínima a cada palabra del vocabulario.\n",
    "* Para facilitar el \"conteo\" (presencia/ausencia) haremos un diccionario del vocabulario, incialmente en ceros."
   ]
  },
  {
   "cell_type": "code",
   "execution_count": 63,
   "id": "e3683006-e502-4810-8c9c-d3ae298ff7a9",
   "metadata": {},
   "outputs": [],
   "source": [
    "# Combinaciones (tipo,autor)\n",
    "autores = list(set(df_train_T.autor))\n",
    "tipos = list(set(df_train_T.tipo))\n",
    "pares_ta = list(product(autores,tipos))\n",
    "\n",
    "# Codificación de los pares (a,t) usando los valores numéricos pre-asignados\n",
    "def encode_paresTA(pares_ta):\n",
    "    paresTA_encoded = {}\n",
    "    for par in pares_ta:\n",
    "        autor,tipo = par\n",
    "        acode = autor_val[autor]\n",
    "        tcode = tipo_val[tipo]\n",
    "        paresTA_encoded[par] = (acode,tcode)\n",
    "    return paresTA_encoded\n",
    "\n",
    "#Conteos de palabras en nuevo_texto por pares (a,t) en el data frame de train\n",
    "conteo_w = dict(df_train_T.Conteos)\n",
    "pares_train = list(zip(df_train_T.autor,df_train_T.tipo))\n",
    "\n",
    "for i,k in enumerate(conteo_w.keys()):\n",
    "    conteo_w[k] = {pares_train[i] : dict(conteo_w[k])}\n",
    "\n",
    "# Probabilidades (presencia/ausencia) de palabras en cada combinación (a,t)\n",
    "# usando corrección de Laplace\n",
    "def check(Word,pares_ta):\n",
    "    pw_ = {}\n",
    "    palabra = list(Word.keys())[0]\n",
    "    var = Word[palabra]\n",
    "    # print(var)\n",
    "    # print(palabra)\n",
    "    pares_ta = encode_paresTA(pares_ta)\n",
    "    for par in pares_ta:\n",
    "        cw_1 = 0   # conteos de presencia \n",
    "        cw_0 = 0   # y ausencia en 0\n",
    "        it = 0     # total de pares (a,t) contabilizados\n",
    "        # print('\\n',par)\n",
    "        for item in list(conteo_w.values()):  # checamos cada par (a,t) en el conjunto de train\n",
    "            # print(i,list(item.keys())[0], end=' ')\n",
    "            it += 1\n",
    "            if par in item: # checamos si el par (a,t) de entrada tiene correspondencia en Train\n",
    "                if palabra in list(item.values())[0]: #checamos si la palabra existe en el par (a,t) de Train\n",
    "                    cw_1 += 1\n",
    "                else:\n",
    "                    cw_0 += 1  #debemos contar también la no existencia por si hay igualdad\n",
    "        if cw_0 == cw_1: # la palabra aparece por igual en todos los pares Train, o bien, no hay pares Train\n",
    "            pw_1 = 0.5   #corrección de Laplace que indica que la palabra puede o no estar por igual\n",
    "            pw_0 = 0.5\n",
    "        else:\n",
    "            pw_1=(1+cw_1)/(var.card+it) #corrección de Laplace en caso de que la palabra exista\n",
    "            pw_0 = 1-pw_1\n",
    "        pw_[pares_ta[par]]=[pw_0,pw_1]\n",
    "    pw_ = OrderedDict(sorted(pw_.items()))\n",
    "    return pw_\n",
    "\n",
    "# Descomentar para probar y comentar el siguiente bloque\n",
    "# pares_ta = encode_paresTA(pares_ta)\n",
    "# t = check(W[0],pares_ta)\n",
    "# print(len(t),t)\n",
    "\n",
    "pares_ta = encode_paresTA(pares_ta)\n",
    "PW_AT=[]\n",
    "for w in voc_dict:    #vocabulario reducido\n",
    "    i = voc_dict[w]\n",
    "    t = check(W[i],pares_ta)\n",
    "    PW_AT.append(mb.DistribCond(name='P(W'+str(i)+'|AT)',var=W[i][vocabulario[i]],indep=[A,T],tabla=t))"
   ]
  },
  {
   "cell_type": "code",
   "execution_count": 64,
   "id": "103fc653-0179-44db-94d8-4fece86c1f4f",
   "metadata": {},
   "outputs": [
    {
     "name": "stdout",
     "output_type": "stream",
     "text": [
      "fieras\n",
      "P(W0|AT) \n",
      "               (W0, 0)  (W0, 1)\n",
      "(A, T, 0, 0)  0.96875  0.03125\n",
      "(A, T, 0, 1)  0.50000  0.50000\n",
      "(A, T, 0, 2)  0.50000  0.50000\n",
      "(A, T, 1, 0)  0.50000  0.50000\n",
      "(A, T, 1, 1)  0.96875  0.03125\n",
      "(A, T, 1, 2)  0.50000  0.50000\n",
      "(A, T, 2, 0)  0.96875  0.03125\n",
      "(A, T, 2, 1)  0.50000  0.50000\n",
      "(A, T, 2, 2)  0.96875  0.03125\n",
      "(A, T, 3, 0)  0.96875  0.03125\n",
      "(A, T, 3, 1)  0.50000  0.50000\n",
      "(A, T, 3, 2)  0.96875  0.03125\n",
      "(A, T, 4, 0)  0.96875  0.03125\n",
      "(A, T, 4, 1)  0.50000  0.50000\n",
      "(A, T, 4, 2)  0.96875  0.03125\n",
      "(A, T, 5, 0)  0.96875  0.03125\n",
      "(A, T, 5, 1)  0.50000  0.50000\n",
      "(A, T, 5, 2)  0.50000  0.50000\n",
      "(A, T, 6, 0)  0.50000  0.50000\n",
      "(A, T, 6, 1)  0.50000  0.50000\n",
      "(A, T, 6, 2)  0.96875  0.03125\n",
      "(A, T, 7, 0)  0.50000  0.50000\n",
      "(A, T, 7, 1)  0.50000  0.50000\n",
      "(A, T, 7, 2)  0.96875  0.03125\n",
      "(A, T, 8, 0)  0.50000  0.50000\n",
      "(A, T, 8, 1)  0.50000  0.50000\n",
      "(A, T, 8, 2)  0.96875  0.03125\n",
      "(A, T, 9, 0)  0.96875  0.03125\n",
      "(A, T, 9, 1)  0.50000  0.50000\n",
      "(A, T, 9, 2)  0.96875  0.03125 \n",
      "\n"
     ]
    }
   ],
   "source": [
    "print(vocabulario[0])\n",
    "print(PW_AT[0].name,'\\n',PW_AT[0].to_Frame(),'\\n')"
   ]
  },
  {
   "cell_type": "code",
   "execution_count": 65,
   "id": "3270ffcd-1bfa-4764-8010-3653c6eca081",
   "metadata": {},
   "outputs": [
    {
     "name": "stdout",
     "output_type": "stream",
     "text": [
      "rebuscador\n",
      "P(W1|AT) \n",
      "               (W1, 0)  (W1, 1)\n",
      "(A, T, 0, 0)  0.96875  0.03125\n",
      "(A, T, 0, 1)  0.50000  0.50000\n",
      "(A, T, 0, 2)  0.50000  0.50000\n",
      "(A, T, 1, 0)  0.50000  0.50000\n",
      "(A, T, 1, 1)  0.96875  0.03125\n",
      "(A, T, 1, 2)  0.50000  0.50000\n",
      "(A, T, 2, 0)  0.96875  0.03125\n",
      "(A, T, 2, 1)  0.50000  0.50000\n",
      "(A, T, 2, 2)  0.96875  0.03125\n",
      "(A, T, 3, 0)  0.96875  0.03125\n",
      "(A, T, 3, 1)  0.50000  0.50000\n",
      "(A, T, 3, 2)  0.96875  0.03125\n",
      "(A, T, 4, 0)  0.96875  0.03125\n",
      "(A, T, 4, 1)  0.50000  0.50000\n",
      "(A, T, 4, 2)  0.96875  0.03125\n",
      "(A, T, 5, 0)  0.96875  0.03125\n",
      "(A, T, 5, 1)  0.50000  0.50000\n",
      "(A, T, 5, 2)  0.50000  0.50000\n",
      "(A, T, 6, 0)  0.50000  0.50000\n",
      "(A, T, 6, 1)  0.50000  0.50000\n",
      "(A, T, 6, 2)  0.96875  0.03125\n",
      "(A, T, 7, 0)  0.50000  0.50000\n",
      "(A, T, 7, 1)  0.50000  0.50000\n",
      "(A, T, 7, 2)  0.50000  0.50000\n",
      "(A, T, 8, 0)  0.50000  0.50000\n",
      "(A, T, 8, 1)  0.50000  0.50000\n",
      "(A, T, 8, 2)  0.96875  0.03125\n",
      "(A, T, 9, 0)  0.96875  0.03125\n",
      "(A, T, 9, 1)  0.50000  0.50000\n",
      "(A, T, 9, 2)  0.96875  0.03125 \n",
      "\n"
     ]
    }
   ],
   "source": [
    "print(vocabulario[1])\n",
    "print(PW_AT[1].name,'\\n',PW_AT[1].to_Frame(),'\\n')"
   ]
  },
  {
   "cell_type": "markdown",
   "id": "77ead47e-aad6-4a0b-b5d8-9428eab9afff",
   "metadata": {},
   "source": [
    "## Preguntas"
   ]
  },
  {
   "cell_type": "markdown",
   "id": "ba0afdf8-4ffe-460a-937b-278be8d3f78a",
   "metadata": {},
   "source": [
    "1. ¿Quién escribió \"El caballo y el Lobo\"?\n",
    "2. \"La escopeta\" ¿es una fábula?\n",
    "3. ¿Qué probabilidad hay de que \"La muerte\" haya sido escrita por José Saramago\n",
    "4. ¿Pudo \"La marcha del caracol\" haber sido escrita por García Márquez y Fuentes en co-autoría?\n",
    "5. Dado que \"El águila de ala cortada y la zorra\" es una fábula, ¿qué probabilidad hay de que haya sido escrita por Jalil Gibrán?\n",
    "6. ¿Qué proporción hay de minicuentos?\n",
    "7. ¿Qué cuentos son de Carlos Onetti?\n",
    "8. ¿Quién dijo: \"Desde que abrí los ojos me di cuenta que mi sitio no estaba aquí, donde yo estoy, sino en donde no estoy ni he estado nunca. En alguna parte hay un lugar vacío y ese vacío se llenará de mí y yo me asentaré en ese hueco que insensiblemente rebosará de mí, pleno de mí hasta volverse fuente o surtidor. Y mi vacío, el vacío de mí que soy ahora, se llenará de sí, pleno de sí, pleno de ser hasta los bordes.\"?\n",
    "9. ¿Quién es el autor con más cuentos?\n",
    "10. ¿Qué probablidad hay de quien haya escrito \"Retiniblastoma\" haya también escrito \"El sol y las ranas\"?"
   ]
  },
  {
   "cell_type": "code",
   "execution_count": 27,
   "id": "9dfdd7f1-c9ee-4506-a532-d567a257009e",
   "metadata": {},
   "outputs": [
    {
     "data": {
      "text/html": [
       "<div>\n",
       "<style scoped>\n",
       "    .dataframe tbody tr th:only-of-type {\n",
       "        vertical-align: middle;\n",
       "    }\n",
       "\n",
       "    .dataframe tbody tr th {\n",
       "        vertical-align: top;\n",
       "    }\n",
       "\n",
       "    .dataframe thead th {\n",
       "        text-align: right;\n",
       "    }\n",
       "</style>\n",
       "<table border=\"1\" class=\"dataframe\">\n",
       "  <thead>\n",
       "    <tr style=\"text-align: right;\">\n",
       "      <th></th>\n",
       "      <th>titulo</th>\n",
       "      <th>texto</th>\n",
       "      <th>nuevo_texto</th>\n",
       "      <th>nuevo_total</th>\n",
       "      <th>Conteos</th>\n",
       "    </tr>\n",
       "  </thead>\n",
       "  <tbody>\n",
       "    <tr>\n",
       "      <th>0</th>\n",
       "      <td>divina fragilidad</td>\n",
       "      <td>dios creó universo sentía solo eternidad empez...</td>\n",
       "      <td>dios universo sentía empezó sentía cosa tan un...</td>\n",
       "      <td>90</td>\n",
       "      <td>{'dios': 9, 'universo': 3, 'sentía': 2, 'empez...</td>\n",
       "    </tr>\n",
       "    <tr>\n",
       "      <th>1</th>\n",
       "      <td>dos seres iguales</td>\n",
       "      <td>cierto día profeta sharía encontró niña jardín...</td>\n",
       "      <td>cierto profeta sharía encontró niña jardín niñ...</td>\n",
       "      <td>92</td>\n",
       "      <td>{'cierto': 1, 'profeta': 7, 'sharía': 4, 'enco...</td>\n",
       "    </tr>\n",
       "    <tr>\n",
       "      <th>2</th>\n",
       "      <td>el caballo y el lobo</td>\n",
       "      <td>estación blandos céfiros hacen verdear campos ...</td>\n",
       "      <td>campos vida cierto lobo alegría buena seguida ...</td>\n",
       "      <td>34</td>\n",
       "      <td>{'campos': 1, 'vida': 1, 'cierto': 1, 'lobo': ...</td>\n",
       "    </tr>\n",
       "    <tr>\n",
       "      <th>3</th>\n",
       "      <td>el cetro</td>\n",
       "      <td>dijo rey esposa señora verdaderamente reina de...</td>\n",
       "      <td>rey esposa señora reina ser esposa señor rey s...</td>\n",
       "      <td>35</td>\n",
       "      <td>{'rey': 3, 'esposa': 2, 'señora': 1, 'reina': ...</td>\n",
       "    </tr>\n",
       "    <tr>\n",
       "      <th>4</th>\n",
       "      <td>el impostor</td>\n",
       "      <td>cansada esperar hombre llegó puntual sonreírme...</td>\n",
       "      <td>cansada esperar hombre llegó primer nombre rep...</td>\n",
       "      <td>83</td>\n",
       "      <td>{'cansada': 1, 'esperar': 1, 'hombre': 2, 'lle...</td>\n",
       "    </tr>\n",
       "  </tbody>\n",
       "</table>\n",
       "</div>"
      ],
      "text/plain": [
       "                 titulo                                              texto  \\\n",
       "0     divina fragilidad  dios creó universo sentía solo eternidad empez...   \n",
       "1     dos seres iguales  cierto día profeta sharía encontró niña jardín...   \n",
       "2  el caballo y el lobo  estación blandos céfiros hacen verdear campos ...   \n",
       "3              el cetro  dijo rey esposa señora verdaderamente reina de...   \n",
       "4           el impostor  cansada esperar hombre llegó puntual sonreírme...   \n",
       "\n",
       "                                         nuevo_texto  nuevo_total  \\\n",
       "0  dios universo sentía empezó sentía cosa tan un...           90   \n",
       "1  cierto profeta sharía encontró niña jardín niñ...           92   \n",
       "2  campos vida cierto lobo alegría buena seguida ...           34   \n",
       "3  rey esposa señora reina ser esposa señor rey s...           35   \n",
       "4  cansada esperar hombre llegó primer nombre rep...           83   \n",
       "\n",
       "                                             Conteos  \n",
       "0  {'dios': 9, 'universo': 3, 'sentía': 2, 'empez...  \n",
       "1  {'cierto': 1, 'profeta': 7, 'sharía': 4, 'enco...  \n",
       "2  {'campos': 1, 'vida': 1, 'cierto': 1, 'lobo': ...  \n",
       "3  {'rey': 3, 'esposa': 2, 'señora': 1, 'reina': ...  \n",
       "4  {'cansada': 1, 'esperar': 1, 'hombre': 2, 'lle...  "
      ]
     },
     "execution_count": 27,
     "metadata": {},
     "output_type": "execute_result"
    }
   ],
   "source": [
    "df_test_T.head()"
   ]
  },
  {
   "cell_type": "code",
   "execution_count": null,
   "id": "f0a3ad5f-f417-4795-b963-134d954bcb67",
   "metadata": {},
   "outputs": [],
   "source": []
  }
 ],
 "metadata": {
  "kernelspec": {
   "display_name": "Python 3",
   "language": "python",
   "name": "python3"
  },
  "language_info": {
   "codemirror_mode": {
    "name": "ipython",
    "version": 3
   },
   "file_extension": ".py",
   "mimetype": "text/x-python",
   "name": "python",
   "nbconvert_exporter": "python",
   "pygments_lexer": "ipython3",
   "version": "3.8.8"
  }
 },
 "nbformat": 4,
 "nbformat_minor": 5
}
